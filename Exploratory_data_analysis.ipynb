{
 "cells": [
  {
   "cell_type": "markdown",
   "metadata": {},
   "source": [
    "# Exploratory data analysis\n",
    "\n",
    "1. Find all tags in angle brackets - most common ones\n",
    "2. Find hashtags\n",
    "3. Find emoticons\n",
    "4. Tweet endings\n",
    "5. Duplicates"
   ]
  },
  {
   "cell_type": "code",
   "execution_count": 1,
   "metadata": {},
   "outputs": [],
   "source": [
    "import numpy as np\n",
    "import pandas as pd\n",
    "from collections import Counter\n",
    "import matplotlib.pyplot as plt\n",
    "from constants import *"
   ]
  },
  {
   "cell_type": "code",
   "execution_count": 2,
   "metadata": {},
   "outputs": [],
   "source": [
    "# Methods adapted from preprocesssing class\n",
    "\n",
    "def remove_tags(df):\n",
    "  print('Removing tags...')\n",
    "  df['text'] = df['text'].str.replace('<[\\w]*>', '')\n",
    "\n",
    "def drop_duplicates(df):\n",
    "  print('Dropping duplicates...')\n",
    "  df = df.drop_duplicates(subset=['text'])\n",
    "  return df"
   ]
  },
  {
   "cell_type": "code",
   "execution_count": 3,
   "metadata": {},
   "outputs": [],
   "source": [
    "# Method adapted from preprocessing class\n",
    "def read_data(list_, submission=False):\n",
    "  if not submission:\n",
    "    if len(list_) == 2:\n",
    "      total_df = pd.DataFrame(columns=['text', 'label'])\n",
    "      for i, file_name in enumerate(list_):\n",
    "        with open(file_name) as f:\n",
    "          content = f.read().splitlines()\n",
    "        df = pd.DataFrame(columns=['text', 'label'],\n",
    "                          data={'text': content,\n",
    "                                'label': np.ones(len(content)) * i})\n",
    "        total_df = total_df.append(df).reset_index(drop=True)\n",
    "  else:\n",
    "    if len(list_) == 1:\n",
    "      with open(list_[0]) as f:\n",
    "        content = f.read().splitlines()\n",
    "        ids = [line.split(',')[0] for line in content]\n",
    "        texts = [','.join(line.split(',')[1:]) for line in content]\n",
    "        total_df = pd.DataFrame(columns=['ids', 'text'],\n",
    "                          data={'ids': ids, 'text': texts})\n",
    "  return total_df\n",
    "\n",
    "\n",
    "train = read_data([TRAIN_DATA_NEGATIVE_FULL, TRAIN_DATA_POSITIVE_FULL], submission=False)\n",
    "test = read_data([TEST_DATA], submission=True)"
   ]
  },
  {
   "cell_type": "code",
   "execution_count": 4,
   "metadata": {},
   "outputs": [
    {
     "data": {
      "text/html": [
       "<div>\n",
       "<style scoped>\n",
       "    .dataframe tbody tr th:only-of-type {\n",
       "        vertical-align: middle;\n",
       "    }\n",
       "\n",
       "    .dataframe tbody tr th {\n",
       "        vertical-align: top;\n",
       "    }\n",
       "\n",
       "    .dataframe thead th {\n",
       "        text-align: right;\n",
       "    }\n",
       "</style>\n",
       "<table border=\"1\" class=\"dataframe\">\n",
       "  <thead>\n",
       "    <tr style=\"text-align: right;\">\n",
       "      <th></th>\n",
       "      <th>text</th>\n",
       "      <th>label</th>\n",
       "    </tr>\n",
       "  </thead>\n",
       "  <tbody>\n",
       "    <tr>\n",
       "      <th>0</th>\n",
       "      <td>vinco tresorpack 6 ( difficulty 10 of 10 objec...</td>\n",
       "      <td>0.0</td>\n",
       "    </tr>\n",
       "    <tr>\n",
       "      <th>1</th>\n",
       "      <td>glad i dot have taks tomorrow ! ! #thankful #s...</td>\n",
       "      <td>0.0</td>\n",
       "    </tr>\n",
       "    <tr>\n",
       "      <th>2</th>\n",
       "      <td>1-3 vs celtics in the regular season = were fu...</td>\n",
       "      <td>0.0</td>\n",
       "    </tr>\n",
       "    <tr>\n",
       "      <th>3</th>\n",
       "      <td>&lt;user&gt; i could actually kill that girl i'm so ...</td>\n",
       "      <td>0.0</td>\n",
       "    </tr>\n",
       "    <tr>\n",
       "      <th>4</th>\n",
       "      <td>&lt;user&gt; &lt;user&gt; &lt;user&gt; i find that very hard to ...</td>\n",
       "      <td>0.0</td>\n",
       "    </tr>\n",
       "  </tbody>\n",
       "</table>\n",
       "</div>"
      ],
      "text/plain": [
       "                                                text  label\n",
       "0  vinco tresorpack 6 ( difficulty 10 of 10 objec...    0.0\n",
       "1  glad i dot have taks tomorrow ! ! #thankful #s...    0.0\n",
       "2  1-3 vs celtics in the regular season = were fu...    0.0\n",
       "3  <user> i could actually kill that girl i'm so ...    0.0\n",
       "4  <user> <user> <user> i find that very hard to ...    0.0"
      ]
     },
     "execution_count": 4,
     "metadata": {},
     "output_type": "execute_result"
    }
   ],
   "source": [
    "train.head(5)"
   ]
  },
  {
   "cell_type": "code",
   "execution_count": 5,
   "metadata": {},
   "outputs": [
    {
     "data": {
      "text/html": [
       "<div>\n",
       "<style scoped>\n",
       "    .dataframe tbody tr th:only-of-type {\n",
       "        vertical-align: middle;\n",
       "    }\n",
       "\n",
       "    .dataframe tbody tr th {\n",
       "        vertical-align: top;\n",
       "    }\n",
       "\n",
       "    .dataframe thead th {\n",
       "        text-align: right;\n",
       "    }\n",
       "</style>\n",
       "<table border=\"1\" class=\"dataframe\">\n",
       "  <thead>\n",
       "    <tr style=\"text-align: right;\">\n",
       "      <th></th>\n",
       "      <th>ids</th>\n",
       "      <th>text</th>\n",
       "    </tr>\n",
       "  </thead>\n",
       "  <tbody>\n",
       "    <tr>\n",
       "      <th>0</th>\n",
       "      <td>1</td>\n",
       "      <td>sea doo pro sea scooter ( sports with the port...</td>\n",
       "    </tr>\n",
       "    <tr>\n",
       "      <th>1</th>\n",
       "      <td>2</td>\n",
       "      <td>&lt;user&gt; shucks well i work all week so now i ca...</td>\n",
       "    </tr>\n",
       "    <tr>\n",
       "      <th>2</th>\n",
       "      <td>3</td>\n",
       "      <td>i cant stay away from bug thats my baby</td>\n",
       "    </tr>\n",
       "    <tr>\n",
       "      <th>3</th>\n",
       "      <td>4</td>\n",
       "      <td>&lt;user&gt; no ma'am ! ! ! lol im perfectly fine an...</td>\n",
       "    </tr>\n",
       "    <tr>\n",
       "      <th>4</th>\n",
       "      <td>5</td>\n",
       "      <td>whenever i fall asleep watching the tv , i alw...</td>\n",
       "    </tr>\n",
       "  </tbody>\n",
       "</table>\n",
       "</div>"
      ],
      "text/plain": [
       "  ids                                               text\n",
       "0   1  sea doo pro sea scooter ( sports with the port...\n",
       "1   2  <user> shucks well i work all week so now i ca...\n",
       "2   3            i cant stay away from bug thats my baby\n",
       "3   4  <user> no ma'am ! ! ! lol im perfectly fine an...\n",
       "4   5  whenever i fall asleep watching the tv , i alw..."
      ]
     },
     "execution_count": 5,
     "metadata": {},
     "output_type": "execute_result"
    }
   ],
   "source": [
    "test.head(5)"
   ]
  },
  {
   "cell_type": "code",
   "execution_count": 6,
   "metadata": {},
   "outputs": [
    {
     "data": {
      "text/html": [
       "<div>\n",
       "<style scoped>\n",
       "    .dataframe tbody tr th:only-of-type {\n",
       "        vertical-align: middle;\n",
       "    }\n",
       "\n",
       "    .dataframe tbody tr th {\n",
       "        vertical-align: top;\n",
       "    }\n",
       "\n",
       "    .dataframe thead th {\n",
       "        text-align: right;\n",
       "    }\n",
       "</style>\n",
       "<table border=\"1\" class=\"dataframe\">\n",
       "  <thead>\n",
       "    <tr style=\"text-align: right;\">\n",
       "      <th></th>\n",
       "      <th>text</th>\n",
       "      <th>label</th>\n",
       "    </tr>\n",
       "  </thead>\n",
       "  <tbody>\n",
       "    <tr>\n",
       "      <th>0</th>\n",
       "      <td>vinco tresorpack 6 ( difficulty 10 of 10 objec...</td>\n",
       "      <td>0.0</td>\n",
       "    </tr>\n",
       "    <tr>\n",
       "      <th>1</th>\n",
       "      <td>glad i dot have taks tomorrow ! ! #thankful #s...</td>\n",
       "      <td>0.0</td>\n",
       "    </tr>\n",
       "    <tr>\n",
       "      <th>2</th>\n",
       "      <td>1-3 vs celtics in the regular season = were fu...</td>\n",
       "      <td>0.0</td>\n",
       "    </tr>\n",
       "    <tr>\n",
       "      <th>3</th>\n",
       "      <td>&lt;user&gt; i could actually kill that girl i'm so ...</td>\n",
       "      <td>0.0</td>\n",
       "    </tr>\n",
       "    <tr>\n",
       "      <th>4</th>\n",
       "      <td>&lt;user&gt; &lt;user&gt; &lt;user&gt; i find that very hard to ...</td>\n",
       "      <td>0.0</td>\n",
       "    </tr>\n",
       "  </tbody>\n",
       "</table>\n",
       "</div>"
      ],
      "text/plain": [
       "                                                text  label\n",
       "0  vinco tresorpack 6 ( difficulty 10 of 10 objec...    0.0\n",
       "1  glad i dot have taks tomorrow ! ! #thankful #s...    0.0\n",
       "2  1-3 vs celtics in the regular season = were fu...    0.0\n",
       "3  <user> i could actually kill that girl i'm so ...    0.0\n",
       "4  <user> <user> <user> i find that very hard to ...    0.0"
      ]
     },
     "execution_count": 6,
     "metadata": {},
     "output_type": "execute_result"
    }
   ],
   "source": [
    "train.head(5)"
   ]
  },
  {
   "cell_type": "markdown",
   "metadata": {},
   "source": [
    "## 1. Tags"
   ]
  },
  {
   "cell_type": "code",
   "execution_count": 7,
   "metadata": {},
   "outputs": [
    {
     "name": "stdout",
     "output_type": "stream",
     "text": [
      "[('<user>', 1605595), ('<url>', 526862), ('<>', 34), ('<b>', 27), ('<p>', 16), ('<i>', 10), ('<br>', 7), ('<strong>', 6), ('<syrian>', 6), ('<3>', 4), ('<trans>', 3), ('<_>', 3), ('<agent>', 3), ('<c>', 3), ('<sigh>', 3), ('<space>', 3), ('<em>', 2), ('<script>', 2), ('<hugs>', 2), ('<update>', 2), ('<attention>', 2), ('<072312>', 2), ('<gardenstuff>', 2), ('<sciencestuff>', 2), ('<cutestuff>', 2), ('<grin>', 2), ('<moan>', 1), ('<ages>', 1), ('<naive>', 1), ('<content>', 1), ('<w>', 1), ('<emotional>', 1), ('<name>', 1), ('<parenthood>', 1), ('<blink>', 1), ('<8>', 1), ('<weeping>', 1), ('<ummm>', 1), ('<iostream>', 1), ('<retweet>', 1), ('<thing>', 1), ('<cfoutput>', 1), ('<mournfully>', 1), ('<justkiddin>', 1), ('<hahahahhahaha>', 1), ('<twinkle>', 1), ('<atomic>', 1), ('<del>', 1), ('<screams>', 1), ('<o>', 1), ('<demon>', 1), ('<ht>', 1), ('<please>', 1), ('<haha>', 1), ('<hot>', 1), ('<waves>', 1), ('<143>', 1), ('<here>', 1), ('<likewise>', 1), ('<weirdarms>', 1), ('<cont>', 1), ('<thx>', 1), ('<time>', 1), ('<impressive>', 1), ('<sarah>', 1), ('<understood>', 1), ('<popcorn>', 1), ('<summary>', 1), ('<grunt>', 1), ('<calc>', 1), ('<joke>', 1), ('<ducking>', 1), ('<mikel>', 1), ('<g>', 1), ('<ducks>', 1), ('<brr>', 1), ('<blushing>', 1), ('<dynamic>', 1), ('<outstanding>', 1), ('<laugh>', 1), ('<__>', 1)]\n"
     ]
    }
   ],
   "source": [
    "all_tags = [tag for tag_list in train['text'].str.findall('<[\\w]*>').values for tag in tag_list]\n",
    "c = Counter(all_tags)\n",
    "print(c.most_common())"
   ]
  },
  {
   "cell_type": "markdown",
   "metadata": {},
   "source": [
    "## 2. Hashtags"
   ]
  },
  {
   "cell_type": "code",
   "execution_count": 8,
   "metadata": {},
   "outputs": [
    {
     "name": "stdout",
     "output_type": "stream",
     "text": [
      "We have 114061 hashtags\n"
     ]
    }
   ],
   "source": [
    "all_hashtags = [hashtag for hashtag_list in train['text'].str.findall('(#\\w+)').values for hashtag in hashtag_list]\n",
    "print('We have',len(set(all_hashtags)), 'hashtags')"
   ]
  },
  {
   "cell_type": "markdown",
   "metadata": {},
   "source": [
    "## 3. Emoticons\n",
    "\n",
    "We are using `utility/emoticons.txt` file which contains Emoticons from https://en.wikipedia.org/wiki/List_of_emoticons, gathered on 22 Nov 2020 (Eastern emoticons and Western emoticon) and common emoticons we knew.\n",
    "\n",
    "Then, the emoticons which we actually have are manually split according to Glove tags."
   ]
  },
  {
   "cell_type": "code",
   "execution_count": 9,
   "metadata": {},
   "outputs": [],
   "source": [
    "with open('utility/emoticons.txt') as f:\n",
    "  content = f.read().splitlines()\n",
    "  # Ignore first lines of comments and the blank line\n",
    "  content = content[6:]\n",
    "  EMOTICONS = content\n",
    "  \n",
    "\n",
    "def search_emoticon(text, emoticons=EMOTICONS):\n",
    "  e_list = []\n",
    "  for e in emoticons:\n",
    "    if e in text:\n",
    "      e_list.append(e)\n",
    "  return e_list\n",
    "\n",
    "  \n",
    "def find_emoticons(df, emoticons=EMOTICONS):\n",
    "  df['emoticons'] = df['text_wo_spaces'].apply(\n",
    "      lambda text: search_emoticon(text))"
   ]
  },
  {
   "cell_type": "code",
   "execution_count": 10,
   "metadata": {},
   "outputs": [],
   "source": [
    "train['text_wo_spaces'] = train['text'].str.replace(' ', '')\n",
    "find_emoticons(train)"
   ]
  },
  {
   "cell_type": "code",
   "execution_count": 11,
   "metadata": {},
   "outputs": [],
   "source": [
    "all_train_emoticons = [x for y in train['emoticons'].tolist() for x in y]"
   ]
  },
  {
   "cell_type": "code",
   "execution_count": 12,
   "metadata": {},
   "outputs": [
    {
     "name": "stdout",
     "output_type": "stream",
     "text": [
      "We have 132 emoticons\n"
     ]
    }
   ],
   "source": [
    "print('We have', len(list(set(all_train_emoticons))), 'emoticons')"
   ]
  },
  {
   "cell_type": "markdown",
   "metadata": {},
   "source": [
    "## 4. Endings"
   ]
  },
  {
   "cell_type": "code",
   "execution_count": 13,
   "metadata": {},
   "outputs": [
    {
     "name": "stdout",
     "output_type": "stream",
     "text": [
      "We have 68086 tweets which end in a series of ) or (\n"
     ]
    }
   ],
   "source": [
    "a = train['text'].str.findall('\\)+$').apply(len).values.sum()\n",
    "b = train['text'].str.findall('\\(+$').apply(len).values.sum()\n",
    "print('We have', a+b, 'tweets which end in a series of ) or (')"
   ]
  },
  {
   "cell_type": "code",
   "execution_count": 14,
   "metadata": {},
   "outputs": [
    {
     "name": "stdout",
     "output_type": "stream",
     "text": [
      "We have 52446 tweets which end in ...\n"
     ]
    }
   ],
   "source": [
    "c = train['text'].str.findall('\\...$').apply(len).values.sum()\n",
    "print('We have', c, 'tweets which end in ...')"
   ]
  },
  {
   "cell_type": "markdown",
   "metadata": {},
   "source": [
    "## 5. Duplicates"
   ]
  },
  {
   "cell_type": "code",
   "execution_count": 15,
   "metadata": {},
   "outputs": [],
   "source": [
    "neg = train[train['label']==0]\n",
    "pos = train[train['label']==1]"
   ]
  },
  {
   "cell_type": "code",
   "execution_count": 16,
   "metadata": {},
   "outputs": [
    {
     "data": {
      "text/plain": [
       "(1250000, 4)"
      ]
     },
     "execution_count": 16,
     "metadata": {},
     "output_type": "execute_result"
    }
   ],
   "source": [
    "neg.shape"
   ]
  },
  {
   "cell_type": "code",
   "execution_count": 17,
   "metadata": {},
   "outputs": [
    {
     "name": "stdout",
     "output_type": "stream",
     "text": [
      "Dropping duplicates...\n",
      "Dropping duplicates...\n",
      "Negative: (1142838, 4)\n",
      "Positive: (1127644, 4)\n"
     ]
    }
   ],
   "source": [
    "neg = drop_duplicates(neg)\n",
    "pos = drop_duplicates(pos)\n",
    "print('Negative:', neg.shape)\n",
    "print('Positive:', pos.shape)"
   ]
  },
  {
   "cell_type": "code",
   "execution_count": 18,
   "metadata": {},
   "outputs": [
    {
     "data": {
      "text/plain": [
       "<BarContainer object of 2 artists>"
      ]
     },
     "execution_count": 18,
     "metadata": {},
     "output_type": "execute_result"
    },
    {
     "data": {
      "image/png": "[encoded data removed]",
      "text/plain": [
       "<Figure size 432x288 with 1 Axes>"
      ]
     },
     "metadata": {
      "needs_background": "light"
     },
     "output_type": "display_data"
    }
   ],
   "source": [
    "plt.bar(['negative', 'positive'], [neg.shape[0]/1e6, pos.shape[0]/1e6])"
   ]
  }
 ],
 "metadata": {
  "kernelspec": {
   "display_name": "Python 3",
   "language": "python",
   "name": "python3"
  },
  "language_info": {
   "codemirror_mode": {
    "name": "ipython",
    "version": 3
   },
   "file_extension": ".py",
   "mimetype": "text/x-python",
   "name": "python",
   "nbconvert_exporter": "python",
   "pygments_lexer": "ipython3",
   "version": "3.8.5"
  }
 },
 "nbformat": 4,
 "nbformat_minor": 4
}
